{
  "cells": [
    {
      "cell_type": "markdown",
      "metadata": {
        "id": "cXGNilhi9bpa"
      },
      "source": [
        "# Деление на слоги"
      ]
    },
    {
      "cell_type": "code",
      "execution_count": 2,
      "metadata": {
        "id": "gmDbRt8Q9kVR"
      },
      "outputs": [],
      "source": [
        "from rusyll import rusyll"
      ]
    },
    {
      "cell_type": "markdown",
      "metadata": {
        "id": "LplUMOZzsql5"
      },
      "source": [
        "Пример работы библиотеки:"
      ]
    },
    {
      "cell_type": "code",
      "execution_count": 3,
      "metadata": {
        "colab": {
          "base_uri": "https://localhost:8080/"
        },
        "id": "b5XFdWfK9oL9",
        "outputId": "62bcf5bd-f9cc-454d-8942-661ea359e473"
      },
      "outputs": [
        {
          "output_type": "execute_result",
          "data": {
            "text/plain": [
              "['че', 'ре', 'пу', 'ши', 'дзе']"
            ]
          },
          "metadata": {},
          "execution_count": 3
        }
      ],
      "source": [
        "rusyll.token_to_syllables(\"черепушидзе\")"
      ]
    },
    {
      "cell_type": "markdown",
      "metadata": {
        "id": "Rr2KM2vN9wjd"
      },
      "source": [
        "# Ударения"
      ]
    },
    {
      "cell_type": "code",
      "execution_count": 5,
      "metadata": {
        "id": "TlIYQzOasql5"
      },
      "outputs": [],
      "source": [
        "from russtress import Accent"
      ]
    },
    {
      "cell_type": "markdown",
      "metadata": {
        "id": "xKPdeeHhsql6"
      },
      "source": [
        "Пример работы библиотеки:"
      ]
    },
    {
      "cell_type": "code",
      "execution_count": 6,
      "metadata": {
        "colab": {
          "base_uri": "https://localhost:8080/",
          "height": 35
        },
        "id": "6qxrfUHIPOq6",
        "outputId": "6116a732-ad4a-4d20-c4de-13019044b0e0"
      },
      "outputs": [
        {
          "output_type": "execute_result",
          "data": {
            "text/plain": [
              "\"Я верну'лся в мой го'род, знако'мый до слёз,\""
            ],
            "application/vnd.google.colaboratory.intrinsic+json": {
              "type": "string"
            }
          },
          "metadata": {},
          "execution_count": 6
        }
      ],
      "source": [
        "accent = Accent()\n",
        "text = 'Я вернулся в мой город, знакомый до слёз,'\n",
        "accented_text = accent.put_stress(text)\n",
        "accented_text"
      ]
    },
    {
      "cell_type": "markdown",
      "metadata": {
        "id": "yZ59LJ8-tRhF"
      },
      "source": [
        "# Ударение + Деление на слоги"
      ]
    },
    {
      "cell_type": "code",
      "execution_count": 7,
      "metadata": {
        "id": "PerT4bZG95MY"
      },
      "outputs": [],
      "source": [
        "test = 'Я вернулся в мой город, знакомый до слёз,'"
      ]
    },
    {
      "cell_type": "code",
      "execution_count": 8,
      "metadata": {
        "id": "PZhsoygfYlq9"
      },
      "outputs": [],
      "source": [
        "li_unstressed = ['до', 'за', 'без', 'из', 'по']"
      ]
    },
    {
      "cell_type": "code",
      "execution_count": 9,
      "metadata": {
        "id": "u4vxIZ4FbH3M"
      },
      "outputs": [],
      "source": [
        "vowels = 'аеёиоуыэюя'"
      ]
    },
    {
      "cell_type": "markdown",
      "metadata": {
        "id": "Cp7I2beBtgsx"
      },
      "source": [
        "Ф-я добавляет графическое ударение там, где библиотечная функция не ставит (а именно в словах с одним гласным и на ё)"
      ]
    },
    {
      "cell_type": "code",
      "execution_count": 10,
      "metadata": {
        "id": "0Bu3Dv9yW5fn"
      },
      "outputs": [],
      "source": [
        "def add_stress(text):\n",
        "  res = []\n",
        "  words = text.split()\n",
        "  for word in words:\n",
        "    w = word.strip(' .,-!?()\\\\\"\\\\/*#№')\n",
        "    if w not in li_unstressed and '\\'' not in w:\n",
        "      #print(True)\n",
        "      letters = []\n",
        "      for i in word:\n",
        "        letters.append(i)\n",
        "        if i.lower() in vowels:\n",
        "          letters.append('\\'')\n",
        "      stress_fixed = ''.join(letters)\n",
        "      res.append(stress_fixed)\n",
        "    else:\n",
        "      res.append(word)\n",
        "  return \" \".join(res)"
      ]
    },
    {
      "cell_type": "code",
      "execution_count": 11,
      "metadata": {
        "colab": {
          "base_uri": "https://localhost:8080/",
          "height": 35
        },
        "id": "yHriSrCFfWwk",
        "outputId": "0a038a66-d68a-4d0e-a808-a70111c33033"
      },
      "outputs": [
        {
          "output_type": "execute_result",
          "data": {
            "text/plain": [
              "\"Я' верну'лся в мо'й го'род, знако'мый до слё'з,\""
            ],
            "application/vnd.google.colaboratory.intrinsic+json": {
              "type": "string"
            }
          },
          "metadata": {},
          "execution_count": 11
        }
      ],
      "source": [
        "add_stress(accented_text)"
      ]
    },
    {
      "cell_type": "markdown",
      "metadata": {
        "id": "cxlkRfrIt2yr"
      },
      "source": [
        "Ф-я совмещает деление на слоги и графическое ударение"
      ]
    },
    {
      "cell_type": "code",
      "execution_count": 12,
      "metadata": {
        "id": "Ic6WUTXP9_uz"
      },
      "outputs": [],
      "source": [
        "def rhythm(text):\n",
        "  syl = '|'.join(rusyll.token_to_syllables(text))\n",
        "  accented_previous = accent.put_stress(text)\n",
        "  accented = add_stress(accented_previous)\n",
        "\n",
        "\n",
        "  new_line = []\n",
        "  max_len = max(len(text), len(syl), len(accented))\n",
        "  idx_syl = 0\n",
        "  idx_accented = 0\n",
        "  idx_text = 0\n",
        "  while idx_accented < max_len and idx_syl < max_len:\n",
        "    #print(idx_accented, idx_syl, max_len)\n",
        "    if text[idx_text] == accented[idx_accented]:\n",
        "      idx_accented += 1\n",
        "    else:\n",
        "      new_line += accented[idx_accented]\n",
        "      idx_accented += 2\n",
        "    if text[idx_text] == syl[idx_syl]:\n",
        "      idx_syl += 1\n",
        "    else:\n",
        "      new_line += syl[idx_syl]\n",
        "      idx_syl += 2\n",
        "\n",
        "    new_line += text[idx_text]\n",
        "    idx_text += 1\n",
        "\n",
        "  res = \"\".join(new_line)\n",
        "  return res"
      ]
    },
    {
      "cell_type": "code",
      "execution_count": 13,
      "metadata": {
        "colab": {
          "base_uri": "https://localhost:8080/",
          "height": 35
        },
        "id": "o-eFktVkCyxJ",
        "outputId": "274b2af7-7b03-491f-8625-ffb4a08efa89"
      },
      "outputs": [
        {
          "output_type": "execute_result",
          "data": {
            "text/plain": [
              "'То|т, кто| лю|би|т цве|ты,'"
            ],
            "application/vnd.google.colaboratory.intrinsic+json": {
              "type": "string"
            }
          },
          "metadata": {},
          "execution_count": 13
        }
      ],
      "source": [
        "'|'.join(rusyll.token_to_syllables('Тот, кто любит цветы,'))"
      ]
    },
    {
      "cell_type": "code",
      "execution_count": 14,
      "metadata": {
        "colab": {
          "base_uri": "https://localhost:8080/",
          "height": 35
        },
        "id": "PsmL9VBzGSyC",
        "outputId": "df01d673-795a-4fef-ce96-4753c79c945e"
      },
      "outputs": [
        {
          "output_type": "execute_result",
          "data": {
            "text/plain": [
              "\"Я'| вер|ну'л|ся| в мо'й| го'|ро|д, зна|ко'|мый| до| слё'з,\""
            ],
            "application/vnd.google.colaboratory.intrinsic+json": {
              "type": "string"
            }
          },
          "metadata": {},
          "execution_count": 14
        }
      ],
      "source": [
        "rhythm(test)"
      ]
    },
    {
      "cell_type": "markdown",
      "metadata": {
        "id": "ubbTLasXt9TY"
      },
      "source": [
        "Ф-я превращает результат в список нулей и единиц, где 1 - ударный слог, 0 - безударный слог"
      ]
    },
    {
      "cell_type": "code",
      "execution_count": 15,
      "metadata": {
        "id": "keAkzNIdrI57"
      },
      "outputs": [],
      "source": [
        "def rhythm_to_pattern(rhythmed):\n",
        "  pattern = []\n",
        "  data = rhythmed.split('|')\n",
        "  for i in data:\n",
        "    if '\\'' in i:\n",
        "      pattern.append(1)\n",
        "    else:\n",
        "      pattern.append(0)\n",
        "  return pattern"
      ]
    },
    {
      "cell_type": "code",
      "execution_count": 16,
      "metadata": {
        "colab": {
          "base_uri": "https://localhost:8080/"
        },
        "id": "k-rq-2pLrI87",
        "outputId": "499605fd-d099-42f5-d767-1ee9608b4d6b"
      },
      "outputs": [
        {
          "output_type": "execute_result",
          "data": {
            "text/plain": [
              "[1, 0, 1, 0, 1, 1, 0, 0, 1, 0, 0, 1]"
            ]
          },
          "metadata": {},
          "execution_count": 16
        }
      ],
      "source": [
        "rhythm_to_pattern(rhythm(test))"
      ]
    },
    {
      "cell_type": "markdown",
      "metadata": {
        "id": "FWceaQvhoP8j"
      },
      "source": [
        "## Корпус"
      ]
    },
    {
      "cell_type": "code",
      "execution_count": 18,
      "metadata": {
        "id": "dWS7Bbttsql8"
      },
      "outputs": [],
      "source": [
        "from google.colab import files\n",
        "files.upload()"
      ]
    },
    {
      "cell_type": "code",
      "execution_count": 19,
      "metadata": {
        "id": "jP2BdYoG9lff"
      },
      "outputs": [],
      "source": [
        "import csv"
      ]
    },
    {
      "cell_type": "code",
      "execution_count": 20,
      "metadata": {
        "id": "lMuvqdTV9WI3"
      },
      "outputs": [],
      "source": [
        "corpus = []\n",
        "with open('poems_clean1.csv', encoding='utf-8', newline='') as csvfile:\n",
        "    reader = csv.reader(csvfile, delimiter='|')\n",
        "    for row in reader:\n",
        "        corpus.append(row)"
      ]
    },
    {
      "cell_type": "code",
      "execution_count": 21,
      "metadata": {
        "id": "h1ZoW9Y9aOSf"
      },
      "outputs": [],
      "source": [
        "corpus_clean = []\n",
        "for i in corpus:\n",
        "  if i:\n",
        "    corpus_clean.append(i)"
      ]
    },
    {
      "cell_type": "code",
      "execution_count": 22,
      "metadata": {
        "id": "ys_U1hzyZthk"
      },
      "outputs": [],
      "source": [
        "def assess_rhythm(poem):\n",
        "  lines = poem.split(\"\\r\\n\")\n",
        "  true_lines = []\n",
        "  for i in lines:\n",
        "    if i:\n",
        "      true_lines.append(i)\n",
        "\n",
        "  li_rhythm = []\n",
        "  for line in true_lines:\n",
        "    li_rhythm.append(rhythm_to_pattern(rhythm(line)))\n",
        "\n",
        "  return li_rhythm"
      ]
    },
    {
      "cell_type": "markdown",
      "source": [
        "Sample1"
      ],
      "metadata": {
        "id": "4d9GObySuJZJ"
      }
    },
    {
      "cell_type": "code",
      "execution_count": 25,
      "metadata": {
        "colab": {
          "base_uri": "https://localhost:8080/",
          "height": 87
        },
        "id": "BepOyGrYsql8",
        "outputId": "bcc2edbb-a367-4fec-a797-9a18b5fadf38"
      },
      "outputs": [
        {
          "output_type": "execute_result",
          "data": {
            "text/plain": [
              "'\\r\\nВ дали мирозданной тайны,\\r\\nГде вечность розой цветёт,\\r\\nРасцветает моя страсть в слове,\\r\\nИ поэзия в сердце горит.\\r\\nВ ночной глубине мечты,\\r\\nГде звёзды сияют над нами,\\r\\nЯ раскрываю свои крылья,\\r\\nИ слова мои—как дым ветрами.\\r\\nОни несутся, легки и воздушны,\\r\\nКак звуки чарующей песни,\\r\\nОни погружают меня в иные миры,\\r\\nГде с ними свободно мне быть одной.\\r\\nСтихи, как реки из настроений,\\r\\nЛьются из души, страсти огненной,\\r\\nОни рисуют картинами звучными,\\r\\nМинуты вечности соединяющими.\\r\\nЯ словами вмещаю мир,\\r\\nПлету романы и сказки,\\r\\nЯ в каждой строчке пророчу,\\r\\nТепло и свет, надежду и радость.\\r\\nСтихами снаряжаюсь в путь,\\r\\nГде смысл ищу и создаю,\\r\\nЯ путешествую по красотам,\\r\\nЧто навсегда в сердце останутся.\\r\\nИ когда на странице белой\\r\\nВсе строчки расположатся в техе,\\r\\nТо для меня весь мир оживает,\\r\\nВ словах живёт и дышит светом.'"
            ],
            "application/vnd.google.colaboratory.intrinsic+json": {
              "type": "string"
            }
          },
          "metadata": {},
          "execution_count": 25
        }
      ],
      "source": [
        "sample1 = corpus_clean[-3][3]\n",
        "sample1"
      ]
    },
    {
      "cell_type": "code",
      "execution_count": 24,
      "metadata": {
        "colab": {
          "base_uri": "https://localhost:8080/"
        },
        "id": "wYFgUpz0ZtkF",
        "outputId": "4cde13c5-9fdb-46f8-f0bc-a9d29ab71f0c"
      },
      "outputs": [
        {
          "output_type": "execute_result",
          "data": {
            "text/plain": [
              "[[1, 0, 0, 1, 0, 0, 1, 0],\n",
              " [1, 1, 0, 1, 0, 0, 1],\n",
              " [0, 0, 1, 0, 0, 1, 1, 1, 0],\n",
              " [1, 0, 1, 0, 0, 1, 0, 0, 1],\n",
              " [0, 1, 0, 0, 1, 0, 1],\n",
              " [1, 1, 0, 0, 1, 0, 1, 1, 0],\n",
              " [1, 0, 0, 1, 0, 0, 1, 1, 0],\n",
              " [1, 0, 1, 1, 1, 1, 1, 1, 1, 1],\n",
              " [0, 1, 0, 1, 0, 0, 1, 1, 0, 1, 0],\n",
              " [1, 1, 0, 1, 0, 0, 0, 1, 0],\n",
              " [0, 1, 0, 0, 1, 0, 0, 1, 0, 1, 0, 1, 0],\n",
              " [1, 1, 0, 0, 1, 0, 1, 1, 0, 1],\n",
              " [0, 1, 1, 1, 0, 0, 0, 0, 1, 0],\n",
              " [1, 0, 0, 0, 1, 1, 0, 1, 0, 0],\n",
              " [0, 1, 0, 1, 0, 0, 1, 0, 0, 1, 0, 0],\n",
              " [0, 1, 0, 1, 0, 0, 0, 0, 0, 1, 0, 0, 0],\n",
              " [1, 0, 1, 0, 0, 1, 0, 1],\n",
              " [0, 1, 0, 1, 0, 1, 1, 0],\n",
              " [1, 1, 0, 1, 0, 0, 0, 1],\n",
              " [0, 1, 1, 1, 0, 1, 0, 1, 1, 0],\n",
              " [0, 1, 0, 0, 0, 1, 0, 1],\n",
              " [1, 1, 0, 1, 1, 0, 0, 1],\n",
              " [1, 0, 0, 1, 0, 0, 0, 0, 0, 1],\n",
              " [1, 0, 0, 1, 1, 0, 0, 1, 0, 0],\n",
              " [1, 0, 1, 1, 0, 1, 0, 1, 0],\n",
              " [1, 1, 0, 0, 0, 1, 0, 0, 1, 0],\n",
              " [1, 1, 0, 1, 1, 1, 1, 0, 0, 0],\n",
              " [0, 1, 0, 1, 1, 1, 0, 1, 0]]"
            ]
          },
          "metadata": {},
          "execution_count": 24
        }
      ],
      "source": [
        "assess_rhythm(sample1)"
      ]
    },
    {
      "cell_type": "markdown",
      "source": [
        "Sample2"
      ],
      "metadata": {
        "id": "MBAnehT7uZz9"
      }
    },
    {
      "cell_type": "code",
      "source": [
        "sample2 = corpus_clean[1070][3]\n",
        "sample2"
      ],
      "metadata": {
        "colab": {
          "base_uri": "https://localhost:8080/",
          "height": 70
        },
        "id": "xTBU2JqyuOV8",
        "outputId": "0ed8cc26-4149-4bc9-eec5-44e1589ebed3"
      },
      "execution_count": 26,
      "outputs": [
        {
          "output_type": "execute_result",
          "data": {
            "text/plain": [
              "'\\r\\nБыстро проходят минуты,\\r\\nА с ними часы,\\r\\nИ те яркие дни,\\r\\nЧто были мы с тобой уединены.\\r\\n\\r\\nЯ чуствую, что теряю тебя,\\r\\nНо при этом понимаю себя.\\r\\nЗаметно уносится время,\\r\\nИ не попробуем больше мы этого крема,\\r\\n\\r\\nСделанного из наших прикосновений,\\r\\nИ тех счастливых мгновений,\\r\\nКогда с тобой были мы,\\r\\nВысокими чувствами переполнены.\\r\\n\\r\\nТеперь ты свободна,\\r\\nТеперь ты одна,\\r\\nНо знай, я буду любить тебя всегда,\\r\\nИ надеюсь, не забудешь меня никогда!\\r\\n\\r\\nХотя о чем я мечтаю,\\r\\nВсе закончилось в ту ночь,\\r\\nКогда нас одолела горечь,\\r\\nИ теперь живя я умираю...\\r\\n\\r\\n\\r\\n\\r\\n'"
            ],
            "application/vnd.google.colaboratory.intrinsic+json": {
              "type": "string"
            }
          },
          "metadata": {},
          "execution_count": 26
        }
      ]
    },
    {
      "cell_type": "code",
      "source": [
        "assess_rhythm(sample2)"
      ],
      "metadata": {
        "colab": {
          "base_uri": "https://localhost:8080/"
        },
        "id": "D6qD1OlfujTF",
        "outputId": "e11a74a6-10a9-4f8e-a078-843a38b9ac51"
      },
      "execution_count": 27,
      "outputs": [
        {
          "output_type": "execute_result",
          "data": {
            "text/plain": [
              "[[1, 0, 0, 1, 0, 0, 1, 0],\n",
              " [1, 1, 0, 0, 1],\n",
              " [1, 1, 1, 0, 0, 1],\n",
              " [1, 1, 0, 1, 0, 1, 0, 0, 0, 1, 0],\n",
              " [1, 1, 0, 0, 1, 0, 1, 0, 0, 1],\n",
              " [1, 1, 1, 0, 0, 0, 1, 0, 0, 1],\n",
              " [0, 1, 0, 0, 1, 0, 0, 1, 0],\n",
              " [1, 1, 0, 1, 0, 0, 1, 0, 1, 1, 0, 0, 1, 0],\n",
              " [1, 0, 0, 0, 0, 1, 0, 0, 0, 0, 1, 0],\n",
              " [1, 1, 0, 1, 0, 0, 1, 0],\n",
              " [0, 1, 0, 1, 1, 0, 1],\n",
              " [0, 1, 0, 0, 1, 0, 0, 0, 0, 1, 0, 0],\n",
              " [0, 1, 1, 0, 1, 0],\n",
              " [0, 1, 1, 0, 1],\n",
              " [1, 1, 1, 1, 0, 0, 1, 0, 1, 0, 1],\n",
              " [1, 0, 1, 0, 1, 0, 1, 0, 0, 1, 0, 0, 1],\n",
              " [0, 1, 1, 1, 1, 0, 1, 0],\n",
              " [1, 0, 1, 0, 0, 1, 1],\n",
              " [0, 1, 1, 0, 0, 1, 0, 0, 1],\n",
              " [1, 0, 1, 0, 1, 1, 0, 0, 1, 0]]"
            ]
          },
          "metadata": {},
          "execution_count": 27
        }
      ]
    },
    {
      "cell_type": "markdown",
      "source": [
        "Sample3"
      ],
      "metadata": {
        "id": "y3PYF7oPu135"
      }
    },
    {
      "cell_type": "code",
      "source": [
        "sample3 = corpus_clean[1003][3]\n",
        "sample3"
      ],
      "metadata": {
        "colab": {
          "base_uri": "https://localhost:8080/",
          "height": 53
        },
        "id": "-LrtdJE_u0Tr",
        "outputId": "bf9e0e06-9800-4e22-b455-ecb57dca9133"
      },
      "execution_count": 28,
      "outputs": [
        {
          "output_type": "execute_result",
          "data": {
            "text/plain": [
              "'\\r\\nКто узнал в этих шутках себя,\\r\\nИзвини! Я не думал обидеть\\r\\nНикого из девчат и ребят.\\r\\nИ не знал, что вот так оно выйдет.\\r\\n\\r\\nЯ шутил просто так, ни о ком,\\r\\nНапридумывал всех персонажей.\\r\\nДаже не было мысли о том,\\r\\nЧто всё это не чистая лажа.\\r\\n\\r\\nТак что если обиделся ты\\r\\nВ этих шутках себя узнавая,\\r\\nОщущаешь злость, ярость и стыд,\\r\\nИзвини! Я тебя умоляю.\\r\\n\\r\\n\\r\\n\\r\\n'"
            ],
            "application/vnd.google.colaboratory.intrinsic+json": {
              "type": "string"
            }
          },
          "metadata": {},
          "execution_count": 28
        }
      ]
    },
    {
      "cell_type": "code",
      "source": [
        "assess_rhythm(sample3)"
      ],
      "metadata": {
        "colab": {
          "base_uri": "https://localhost:8080/"
        },
        "id": "JQGDqRdTu9SH",
        "outputId": "04e626d0-128a-4a96-b818-92a87d31609c"
      },
      "execution_count": 29,
      "outputs": [
        {
          "output_type": "execute_result",
          "data": {
            "text/plain": [
              "[[1, 0, 1, 1, 0, 1, 0, 0, 1],\n",
              " [0, 0, 1, 1, 1, 1, 0, 0, 1, 0],\n",
              " [0, 0, 1, 0, 0, 1, 1, 0, 1],\n",
              " [1, 1, 1, 1, 1, 1, 0, 1, 1, 0],\n",
              " [1, 0, 1, 1, 0, 1, 1, 1, 1],\n",
              " [0, 0, 1, 0, 0, 1, 0, 0, 1, 0],\n",
              " [1, 0, 1, 1, 0, 1, 0, 1, 1],\n",
              " [1, 1, 1, 0, 1, 1, 0, 0, 1, 0],\n",
              " [1, 1, 1, 0, 0, 1, 0, 0, 0],\n",
              " [1, 0, 1, 0, 0, 1, 0, 1, 0, 0],\n",
              " [0, 0, 1, 0, 1, 1, 0, 1, 1],\n",
              " [0, 0, 1, 1, 0, 1, 0, 0, 1, 0]]"
            ]
          },
          "metadata": {},
          "execution_count": 29
        }
      ]
    },
    {
      "cell_type": "markdown",
      "source": [
        "Sample4"
      ],
      "metadata": {
        "id": "uD-dZsSIvAGk"
      }
    },
    {
      "cell_type": "code",
      "source": [
        "sample4 = corpus_clean[3][3]\n",
        "sample4"
      ],
      "metadata": {
        "colab": {
          "base_uri": "https://localhost:8080/",
          "height": 87
        },
        "id": "Fs_WneBjvB0N",
        "outputId": "cb1163d0-f879-41b2-9c13-18894286560e"
      },
      "execution_count": 30,
      "outputs": [
        {
          "output_type": "execute_result",
          "data": {
            "text/plain": [
              "'\\r\\nК Керн*\\r\\nЯ помню чудное мгновенье:\\r\\nПередо мной явилась ты,\\r\\nКак мимолетное виденье,\\r\\nКак гений чистой красоты.\\r\\nВ томленьях грусти безнадежной,\\r\\nВ тревогах шумной суеты,\\r\\nЗвучал мне долго голос нежный\\r\\nИ снились милые черты.\\r\\nШли годы. Бурь порыв мятежный\\r\\nРассеял прежние мечты,\\r\\nИ я забыл твой голос нежный,\\r\\nТвои небесные черты.\\r\\nВ глуши, во мраке заточенья\\r\\nТянулись тихо дни мои\\r\\nБез божества, без вдохновенья,\\r\\nБез слез, без жизни, без любви.\\r\\nДуше настало пробужденье:\\r\\nИ вот опять явилась ты,\\r\\nКак мимолетное виденье,\\r\\nКак гений чистой красоты.\\r\\nИ сердце бьется в упоенье,\\r\\nИ для него воскресли вновь\\r\\nИ божество, и вдохновенье,\\r\\nИ жизнь, и слезы, и любовь.\\r\\n\\r\\n'"
            ],
            "application/vnd.google.colaboratory.intrinsic+json": {
              "type": "string"
            }
          },
          "metadata": {},
          "execution_count": 30
        }
      ]
    },
    {
      "cell_type": "code",
      "source": [
        "assess_rhythm(sample4)"
      ],
      "metadata": {
        "colab": {
          "base_uri": "https://localhost:8080/"
        },
        "id": "s_2N8RCcvELE",
        "outputId": "fe908280-c16d-4c92-8a40-8178f2d6a9b9"
      },
      "execution_count": 31,
      "outputs": [
        {
          "output_type": "execute_result",
          "data": {
            "text/plain": [
              "[[1],\n",
              " [1, 1, 0, 0, 1, 0, 0, 1, 0],\n",
              " [1, 0, 0, 1, 0, 1, 0, 1],\n",
              " [1, 0, 0, 1, 0, 0, 1, 0, 0],\n",
              " [1, 1, 0, 1, 0, 0, 0, 1],\n",
              " [0, 1, 0, 0, 1, 0, 0, 1, 0],\n",
              " [0, 1, 0, 0, 1, 0, 0, 1],\n",
              " [0, 1, 1, 1, 0, 1, 0, 1, 0],\n",
              " [1, 1, 0, 1, 0, 0, 0, 1],\n",
              " [1, 1, 0, 1, 0, 1, 0, 1, 0],\n",
              " [0, 1, 0, 1, 0, 0, 0, 1],\n",
              " [1, 1, 0, 1, 1, 1, 0, 1, 0],\n",
              " [0, 1, 0, 1, 0, 0, 0, 1],\n",
              " [0, 1, 1, 1, 0, 0, 0, 1, 0],\n",
              " [0, 1, 0, 1, 0, 1, 0, 0],\n",
              " [1, 0, 0, 1, 0, 0, 0, 1, 0],\n",
              " [1, 1, 0, 1, 0, 0, 0, 1],\n",
              " [0, 1, 0, 1, 0, 0, 0, 1, 0],\n",
              " [1, 1, 0, 1, 0, 1, 0, 1],\n",
              " [1, 0, 0, 1, 0, 0, 1, 0, 0],\n",
              " [1, 1, 0, 1, 0, 0, 0, 1],\n",
              " [1, 1, 0, 1, 0, 0, 0, 1, 0],\n",
              " [1, 1, 0, 1, 0, 1, 0, 1],\n",
              " [1, 0, 0, 1, 1, 0, 0, 1, 0],\n",
              " [1, 1, 1, 0, 1, 1, 0, 1]]"
            ]
          },
          "metadata": {},
          "execution_count": 31
        }
      ]
    },
    {
      "cell_type": "markdown",
      "metadata": {
        "id": "5mBh2ms_ec_J"
      },
      "source": [
        "**Ритм стихотворения характеризуется метром и размером.**\n",
        "\n",
        "**Метр** - это повторение определенного соотношения ударного и безударного слогов. Например, если мы обозначим единицей ударные слоги, а нулем - безударные, то ямб можно записать как 01010101, дактиль - 100100100100.\n",
        "**Размер** - это количество стоп (стопа - повторяющаяся группа ударных и безударных слогов в строке), то есть, проще говоря, размер - это длина строки.\n",
        "\n",
        "Мы видим на сэмплах, что метр не определяется правильно нашим кодом (поскольку нет закономерности для каждой строки). Скорее всего это связано с тем, что в стихотворениях ударными могут являться не только те слоги, которые ударны \"согласно словарю\". Напротив, размер легко определить с помощью простого подсчета слогов в каждой строке. Это нормально, что длины чередуются (как в сэмплах 3 и 4, например) или даже имеют сложную схему длин, но стихотворение нельзя признать ритмичным, если длины строк произвольны (как в сэмплах 1 и 2). Поэтому в качестве показателя ритма мы возьмем отношение количества разных длин строк в стихе к его длине (количеству строк). Так, у сэмпла №3 всего две длины строк и всего двенадцать строк, поэтому показатель ритма будет равен 2/12 = 0.17. Поскольку при таком подходе мы получаем ситуацию, когда чем показатель меньше, тем лучше (в то время как другие параметры разметки ориентированы на противоположную ситуацию - \"чем больше, тем лучше\"), мы вычтем полученные показатели ритма из 1, чтобы инвертировать значения."
      ]
    },
    {
      "cell_type": "code",
      "execution_count": null,
      "metadata": {
        "id": "AdvbW6RAa9pc"
      },
      "outputs": [],
      "source": [
        "def assess_syl_num(poem):\n",
        "  lines = poem.split(\"\\r\\n\")\n",
        "  true_lines = []\n",
        "  for i in lines:\n",
        "    if i:\n",
        "      true_lines.append(i)\n",
        "\n",
        "  li_syl = []\n",
        "  for line in true_lines:\n",
        "    li_syl.append(len(rusyll.token_to_syllables(line)))\n",
        "\n",
        "  len_diff_len_lines = 1 - len(list(set(li_syl))) / len(true_lines)\n",
        "  len_diff = len(list(set(li_syl)))\n",
        "  len_lines = len(true_lines)\n",
        "\n",
        "  return [len_diff_len_lines, len_diff, len_lines]"
      ]
    },
    {
      "cell_type": "code",
      "execution_count": null,
      "metadata": {
        "id": "3cH1TcYEa9us"
      },
      "outputs": [],
      "source": [
        "corpus_syl = []\n",
        "corpus_syl.append(corpus_clean[0])\n",
        "for i in corpus_clean[1:]:\n",
        "  res = i.copy()\n",
        "  syl_res = assess_syl_num(i[1])\n",
        "  res.append(syl_res[0])\n",
        "  res.append(syl_res[1])\n",
        "  res.append(syl_res[2])\n",
        "  corpus_syl.append(res)"
      ]
    },
    {
      "cell_type": "code",
      "execution_count": null,
      "metadata": {
        "id": "7JaVY8bsa9r9"
      },
      "outputs": [],
      "source": [
        "with open('syl_poems1.csv', 'w', encoding='utf-8') as f_w:\n",
        "  csvwriter = csv.writer(f_w)\n",
        "  csvwriter.writerow(['', 'text', 'name', 'difference in lines (divided by len)', 'difference in lines', 'len'])\n",
        "  csvwriter.writerows(corpus_syl)"
      ]
    }
  ],
  "metadata": {
    "colab": {
      "provenance": []
    },
    "kernelspec": {
      "display_name": "Python 3 (ipykernel)",
      "language": "python",
      "name": "python3"
    },
    "language_info": {
      "codemirror_mode": {
        "name": "ipython",
        "version": 3
      },
      "file_extension": ".py",
      "mimetype": "text/x-python",
      "name": "python",
      "nbconvert_exporter": "python",
      "pygments_lexer": "ipython3",
      "version": "3.9.7"
    }
  },
  "nbformat": 4,
  "nbformat_minor": 0
}