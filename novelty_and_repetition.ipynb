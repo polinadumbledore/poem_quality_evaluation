{
 "cells": [
  {
   "cell_type": "code",
   "execution_count": null,
   "metadata": {},
   "outputs": [],
   "source": [
    "import pandas as pd\n",
    "from rouge import Rouge"
   ]
  },
  {
   "cell_type": "code",
   "execution_count": null,
   "metadata": {},
   "outputs": [],
   "source": [
    "df = pd.read_json('/Users/karpovapolina/Downloads/data.json')\n",
    "df = df.T\n",
    "df['name'] = df.index\n",
    "df = df.reset_index(drop=True)"
   ]
  },
  {
   "cell_type": "code",
   "execution_count": null,
   "metadata": {},
   "outputs": [],
   "source": [
    "class NoveltyCalculator:\n",
    "    '''Calculates novelty score for poems with Rouge'''\n",
    "    def __init__(self, corpus):\n",
    "        self.corpus = corpus\n",
    "        self.rouge = Rouge()\n",
    "\n",
    "    def compute_novelty(self, poem):\n",
    "        novelty_scores = []\n",
    "\n",
    "        for other_poem in self.corpus:\n",
    "            if other_poem != poem:  \n",
    "                scores = self.rouge.get_scores(poem, other_poem)\n",
    "                novelty_scores.append(scores[0]['rouge-l']['f'])  \n",
    "\n",
    "        \n",
    "        if novelty_scores:  \n",
    "            novelty_score = 1 - sum(novelty_scores) / len(novelty_scores)\n",
    "        else:\n",
    "            novelty_score = 0.0 \n",
    "\n",
    "        return novelty_score\n",
    "\n",
    "\n",
    "corpus = df['text'].to_list()\n",
    "novelty_calculator = NoveltyCalculator(corpus)\n",
    "novelty_scores = []\n",
    "\n",
    "for i, poem in enumerate(corpus):\n",
    "    print(f\"Computing novelty for poem {i+1} out of {len(corpus)}\")\n",
    "    novelty_scores.append(novelty_calculator.compute_novelty(poem))\n",
    "    "
   ]
  },
  {
   "cell_type": "code",
   "execution_count": null,
   "metadata": {},
   "outputs": [],
   "source": [
    "from rouge import Rouge\n",
    "import itertools\n",
    "\n",
    "class InterNoveltyCalculator:\n",
    "    '''Calculates inter-novelty score for poems with Rouge. \n",
    "    Internovelty means repetition in every seperate poem. \n",
    "    We calculate Rouge score for every line pair in a poem and then get the average of all scores '''\n",
    "    def __init__(self):\n",
    "        self.rouge = Rouge()\n",
    "\n",
    "    def compute_novelty(self, poem):\n",
    "        rouge_scores = []\n",
    "\n",
    "        poem = [line for line in poem if line.strip()]\n",
    "\n",
    "        line_pairs = itertools.combinations(poem, 2) \n",
    " \n",
    "        for pair in line_pairs:\n",
    "            scores = self.rouge.get_scores(pair[0], pair[1])\n",
    "            rouge_scores.append(scores[0]['rouge-l']['f'])  \n",
    "        \n",
    "        novelty_score = 1 - sum(rouge_scores) / len(rouge_scores) if rouge_scores else 0.0\n",
    "        \n",
    "        return novelty_score\n",
    "\n",
    "corpus = df['split_text'].to_list()[0:5]\n",
    "\n",
    "novelty_calculator = InterNoveltyCalculator()\n",
    "novelty_scores = []\n",
    "\n",
    "for i, poem in enumerate(corpus):\n",
    "    print(f\"Computing novelty for poem {i+1} out of {len(corpus)}\")\n",
    "    novelty_scores.append(novelty_calculator.compute_novelty(poem))\n",
    "\n",
    "#print(\"InterNovelty scores for each poem:\", novelty_scores)"
   ]
  }
 ],
 "metadata": {
  "kernelspec": {
   "display_name": "Python 3 (ipykernel)",
   "language": "python",
   "name": "python3"
  },
  "language_info": {
   "codemirror_mode": {
    "name": "ipython",
    "version": 3
   },
   "file_extension": ".py",
   "mimetype": "text/x-python",
   "name": "python",
   "nbconvert_exporter": "python",
   "pygments_lexer": "ipython3",
   "version": "3.9.7"
  }
 },
 "nbformat": 4,
 "nbformat_minor": 2
}
