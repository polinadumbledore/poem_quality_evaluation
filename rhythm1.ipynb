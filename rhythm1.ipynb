{
 "cells": [
  {
   "cell_type": "markdown",
   "metadata": {
    "id": "cXGNilhi9bpa"
   },
   "source": [
    "# Деление на слоги"
   ]
  },
  {
   "cell_type": "code",
   "execution_count": null,
   "metadata": {
    "id": "gmDbRt8Q9kVR"
   },
   "outputs": [],
   "source": [
    "from rusyll import rusyll"
   ]
  },
  {
   "cell_type": "markdown",
   "metadata": {},
   "source": [
    "Пример работы библиотеки:"
   ]
  },
  {
   "cell_type": "code",
   "execution_count": null,
   "metadata": {
    "colab": {
     "base_uri": "https://localhost:8080/"
    },
    "id": "b5XFdWfK9oL9",
    "outputId": "f3255862-e065-4aa6-a0de-dae35ae24873"
   },
   "outputs": [
    {
     "data": {
      "text/plain": [
       "['че', 'ре', 'пу', 'ши', 'дзе']"
      ]
     },
     "execution_count": 3,
     "metadata": {},
     "output_type": "execute_result"
    }
   ],
   "source": [
    "rusyll.token_to_syllables(\"черепушидзе\")"
   ]
  },
  {
   "cell_type": "markdown",
   "metadata": {
    "id": "Rr2KM2vN9wjd"
   },
   "source": [
    "# Ударения"
   ]
  },
  {
   "cell_type": "code",
   "execution_count": null,
   "metadata": {},
   "outputs": [],
   "source": [
    "from russtress import Accent"
   ]
  },
  {
   "cell_type": "markdown",
   "metadata": {},
   "source": [
    "Пример работы библиотеки: "
   ]
  },
  {
   "cell_type": "code",
   "execution_count": null,
   "metadata": {
    "colab": {
     "base_uri": "https://localhost:8080/",
     "height": 35
    },
    "id": "6qxrfUHIPOq6",
    "outputId": "f67fa66c-1685-4b27-87fa-e3964fba662c"
   },
   "outputs": [
    {
     "data": {
      "application/vnd.google.colaboratory.intrinsic+json": {
       "type": "string"
      },
      "text/plain": [
       "\"Я верну'лся в мой го'род, знако'мый до слёз,\""
      ]
     },
     "execution_count": 12,
     "metadata": {},
     "output_type": "execute_result"
    }
   ],
   "source": [
    "accent = Accent()\n",
    "text = 'Я вернулся в мой город, знакомый до слёз,'\n",
    "accented_text = accent.put_stress(text)\n",
    "accented_text"
   ]
  },
  {
   "cell_type": "markdown",
   "metadata": {
    "id": "yZ59LJ8-tRhF"
   },
   "source": [
    "# Ударение + Деление на слоги"
   ]
  },
  {
   "cell_type": "code",
   "execution_count": null,
   "metadata": {
    "id": "PerT4bZG95MY"
   },
   "outputs": [],
   "source": [
    "test = 'Я вернулся в мой город, знакомый до слёз,'"
   ]
  },
  {
   "cell_type": "code",
   "execution_count": null,
   "metadata": {
    "id": "PZhsoygfYlq9"
   },
   "outputs": [],
   "source": [
    "li_unstressed = ['до', 'за', 'без', 'из', 'по']"
   ]
  },
  {
   "cell_type": "code",
   "execution_count": null,
   "metadata": {
    "id": "u4vxIZ4FbH3M"
   },
   "outputs": [],
   "source": [
    "vowels = 'аеёиоуыэюя'"
   ]
  },
  {
   "cell_type": "markdown",
   "metadata": {
    "id": "Cp7I2beBtgsx"
   },
   "source": [
    "Ф-я добавляет графическое ударение там, где библиотечная функция не ставит (а именно в словах с одним гласным и на ё)"
   ]
  },
  {
   "cell_type": "code",
   "execution_count": null,
   "metadata": {
    "id": "0Bu3Dv9yW5fn"
   },
   "outputs": [],
   "source": [
    "def add_stress(text):\n",
    "  res = []\n",
    "  words = text.split()\n",
    "  for word in words:\n",
    "    w = word.strip(' .,-!?()\\\\\"\\\\/*#№')\n",
    "    if w not in li_unstressed and '\\'' not in w:\n",
    "      #print(True)\n",
    "      letters = []\n",
    "      for i in word:\n",
    "        letters.append(i)\n",
    "        if i.lower() in vowels:\n",
    "          letters.append('\\'')\n",
    "      stress_fixed = ''.join(letters)\n",
    "      res.append(stress_fixed)\n",
    "    else:\n",
    "      res.append(word)\n",
    "  return \" \".join(res)"
   ]
  },
  {
   "cell_type": "code",
   "execution_count": null,
   "metadata": {
    "colab": {
     "base_uri": "https://localhost:8080/",
     "height": 35
    },
    "id": "yHriSrCFfWwk",
    "outputId": "18fa267e-78c2-4187-b045-7d6435bc9a47"
   },
   "outputs": [
    {
     "data": {
      "application/vnd.google.colaboratory.intrinsic+json": {
       "type": "string"
      },
      "text/plain": [
       "\"Я' верну'лся в мо'й го'род, знако'мый до слё'з,\""
      ]
     },
     "execution_count": 13,
     "metadata": {},
     "output_type": "execute_result"
    }
   ],
   "source": [
    "add_stress(accented_text)"
   ]
  },
  {
   "cell_type": "markdown",
   "metadata": {
    "id": "cxlkRfrIt2yr"
   },
   "source": [
    "Ф-я совмещает деление на слоги и графическое ударение"
   ]
  },
  {
   "cell_type": "code",
   "execution_count": null,
   "metadata": {
    "id": "Ic6WUTXP9_uz"
   },
   "outputs": [],
   "source": [
    "def rhythm(text):\n",
    "  syl = '|'.join(rusyll.token_to_syllables(text))\n",
    "  accented_previous = accent.put_stress(text)\n",
    "  accented = add_stress(accented_previous)\n",
    "\n",
    "\n",
    "  new_line = []\n",
    "  max_len = max(len(text), len(syl), len(accented))\n",
    "  idx_syl = 0\n",
    "  idx_accented = 0\n",
    "  idx_text = 0\n",
    "  while idx_accented < max_len and idx_syl < max_len:\n",
    "    #print(idx_accented, idx_syl, max_len)\n",
    "    if text[idx_text] == accented[idx_accented]:\n",
    "      idx_accented += 1\n",
    "    else:\n",
    "      new_line += accented[idx_accented]\n",
    "      idx_accented += 2\n",
    "    if text[idx_text] == syl[idx_syl]:\n",
    "      idx_syl += 1\n",
    "    else:\n",
    "      new_line += syl[idx_syl]\n",
    "      idx_syl += 2\n",
    "\n",
    "    new_line += text[idx_text]\n",
    "    idx_text += 1\n",
    "\n",
    "  res = \"\".join(new_line)\n",
    "  return res"
   ]
  },
  {
   "cell_type": "code",
   "execution_count": null,
   "metadata": {
    "colab": {
     "base_uri": "https://localhost:8080/",
     "height": 35
    },
    "id": "o-eFktVkCyxJ",
    "outputId": "1ac908db-d170-4fd9-c41a-4247165abb3d"
   },
   "outputs": [
    {
     "data": {
      "application/vnd.google.colaboratory.intrinsic+json": {
       "type": "string"
      },
      "text/plain": [
       "'То|т, кто| лю|би|т цве|ты,'"
      ]
     },
     "execution_count": 15,
     "metadata": {},
     "output_type": "execute_result"
    }
   ],
   "source": [
    "'|'.join(rusyll.token_to_syllables('Тот, кто любит цветы,'))"
   ]
  },
  {
   "cell_type": "code",
   "execution_count": null,
   "metadata": {
    "colab": {
     "base_uri": "https://localhost:8080/",
     "height": 35
    },
    "id": "PsmL9VBzGSyC",
    "outputId": "95108ae9-45c9-40c0-d097-a59215a74c28"
   },
   "outputs": [
    {
     "data": {
      "application/vnd.google.colaboratory.intrinsic+json": {
       "type": "string"
      },
      "text/plain": [
       "\"Я'| вер|ну'л|ся| в мо'й| го'|ро|д, зна|ко'|мый| до| слё'з,\""
      ]
     },
     "execution_count": 16,
     "metadata": {},
     "output_type": "execute_result"
    }
   ],
   "source": [
    "rhythm(test)"
   ]
  },
  {
   "cell_type": "markdown",
   "metadata": {
    "id": "ubbTLasXt9TY"
   },
   "source": [
    "Ф-я превращает результат в список нулей и единиц, где 1 - ударный слог, 0 - безударный слог"
   ]
  },
  {
   "cell_type": "code",
   "execution_count": null,
   "metadata": {
    "id": "keAkzNIdrI57"
   },
   "outputs": [],
   "source": [
    "def rhythm_to_pattern(rhythmed):\n",
    "  pattern = []\n",
    "  data = rhythmed.split('|')\n",
    "  for i in data:\n",
    "    if '\\'' in i:\n",
    "      pattern.append(1)\n",
    "    else:\n",
    "      pattern.append(0)\n",
    "  return pattern"
   ]
  },
  {
   "cell_type": "code",
   "execution_count": null,
   "metadata": {
    "colab": {
     "base_uri": "https://localhost:8080/"
    },
    "id": "k-rq-2pLrI87",
    "outputId": "13a01439-450d-43cd-cd77-8fc363758f49"
   },
   "outputs": [
    {
     "data": {
      "text/plain": [
       "[1, 0, 1, 0, 1, 1, 0, 0, 1, 0, 0, 1]"
      ]
     },
     "execution_count": 18,
     "metadata": {},
     "output_type": "execute_result"
    }
   ],
   "source": [
    "rhythm_to_pattern(rhythm(test))"
   ]
  },
  {
   "cell_type": "markdown",
   "metadata": {
    "id": "FWceaQvhoP8j"
   },
   "source": [
    "## Корпус"
   ]
  },
  {
   "cell_type": "code",
   "execution_count": null,
   "metadata": {},
   "outputs": [],
   "source": [
    "from google.colab import files\n",
    "files.upload()"
   ]
  },
  {
   "cell_type": "code",
   "execution_count": null,
   "metadata": {
    "id": "jP2BdYoG9lff"
   },
   "outputs": [],
   "source": [
    "import csv"
   ]
  },
  {
   "cell_type": "code",
   "execution_count": null,
   "metadata": {
    "id": "lMuvqdTV9WI3"
   },
   "outputs": [],
   "source": [
    "corpus = []\n",
    "with open('poems_clean1.csv', encoding='utf-8', newline='') as csvfile:\n",
    "    reader = csv.reader(csvfile, delimiter='|')\n",
    "    for row in reader:\n",
    "        corpus.append(row)"
   ]
  },
  {
   "cell_type": "code",
   "execution_count": null,
   "metadata": {
    "id": "h1ZoW9Y9aOSf"
   },
   "outputs": [],
   "source": [
    "corpus_clean = []\n",
    "for i in corpus:\n",
    "  if i:\n",
    "    corpus_clean.append(i)"
   ]
  },
  {
   "cell_type": "code",
   "execution_count": null,
   "metadata": {
    "id": "ys_U1hzyZthk"
   },
   "outputs": [],
   "source": [
    "def assess_rhythm(poem):\n",
    "  lines = poem.split(\"\\r\\n\")\n",
    "  true_lines = []\n",
    "  for i in lines:\n",
    "    if i:\n",
    "      true_lines.append(i)\n",
    "\n",
    "  li_rhythm = []\n",
    "  for line in true_lines:\n",
    "    li_rhythm.append(rhythm_to_pattern(rhythm(line)))\n",
    "\n",
    "  return li_rhythm"
   ]
  },
  {
   "cell_type": "code",
   "execution_count": null,
   "metadata": {},
   "outputs": [],
   "source": [
    "sample1 = corpus_clean[-3][3]"
   ]
  },
  {
   "cell_type": "code",
   "execution_count": null,
   "metadata": {
    "colab": {
     "base_uri": "https://localhost:8080/"
    },
    "id": "wYFgUpz0ZtkF",
    "outputId": "50ae4cf5-4e6b-4fcb-98c4-cc666d167a57"
   },
   "outputs": [
    {
     "data": {
      "text/plain": [
       "[[1, 0, 0, 1, 0, 0, 1, 0],\n",
       " [1, 1, 0, 1, 0, 0, 1],\n",
       " [0, 0, 1, 0, 0, 1, 1, 1, 0],\n",
       " [1, 0, 1, 0, 0, 1, 0, 0, 1],\n",
       " [0, 1, 0, 0, 1, 0, 1],\n",
       " [1, 1, 0, 0, 1, 0, 1, 1, 0],\n",
       " [1, 0, 0, 1, 0, 0, 1, 1, 0],\n",
       " [1, 0, 1, 1, 1, 1, 1, 1, 1, 1],\n",
       " [0, 1, 0, 1, 0, 0, 1, 1, 0, 1, 0],\n",
       " [1, 1, 0, 1, 0, 0, 0, 1, 0],\n",
       " [0, 1, 0, 0, 1, 0, 0, 1, 0, 1, 0, 1, 0],\n",
       " [1, 1, 0, 0, 1, 0, 1, 1, 0, 1],\n",
       " [0, 1, 1, 1, 0, 0, 0, 0, 1, 0],\n",
       " [1, 0, 0, 0, 1, 1, 0, 1, 0, 0],\n",
       " [0, 1, 0, 1, 0, 0, 1, 0, 0, 1, 0, 0],\n",
       " [0, 1, 0, 1, 0, 0, 0, 0, 0, 1, 0, 0, 0],\n",
       " [1, 0, 1, 0, 0, 1, 0, 1],\n",
       " [0, 1, 0, 1, 0, 1, 1, 0],\n",
       " [1, 1, 0, 1, 0, 0, 0, 1],\n",
       " [0, 1, 1, 1, 0, 1, 0, 1, 1, 0],\n",
       " [0, 1, 0, 0, 0, 1, 0, 1],\n",
       " [1, 1, 0, 1, 1, 0, 0, 1],\n",
       " [1, 0, 0, 1, 0, 0, 0, 0, 0, 1],\n",
       " [1, 0, 0, 1, 1, 0, 0, 1, 0, 0],\n",
       " [1, 0, 1, 1, 0, 1, 0, 1, 0],\n",
       " [1, 1, 0, 0, 0, 1, 0, 0, 1, 0],\n",
       " [1, 1, 0, 1, 1, 1, 1, 0, 0, 0],\n",
       " [0, 1, 0, 1, 1, 1, 0, 1, 0]]"
      ]
     },
     "execution_count": 35,
     "metadata": {},
     "output_type": "execute_result"
    }
   ],
   "source": [
    "assess_rhythm(sample1)"
   ]
  },
  {
   "cell_type": "markdown",
   "metadata": {
    "id": "5mBh2ms_ec_J"
   },
   "source": [
    "**Ритм стихотворения характеризуется метром и размером.**\n",
    "\n",
    "**Метр** - это повторение определенного соотношения ударного и безударного слогов. Например, если мы обозначим единицей ударные слоги, а нулем - безударные, то ямб можно записать ткак 01010101, дактиль - 100100100100.\n",
    "**Размер** - это количество стоп (стопа - повторяющаяся группа ударных и безударных слогов в строке), то есть, проще говоря, размер - это длина строки.\n",
    "\n",
    "Мы видим на сэмплах, что метр не определяется правильно нашим кодом (поскольку нет закономерности для каждой строки). Скорее всего это связано с тем, что в стихотворениями ударными могут являться не только те слоги, которые ударные \"согласно словарю\". Напротив, размер легко определить с помощью простого подсчета слогов в каждой строке. Это нормально, что длины чередуются (как в сэмплах 3 и 4, например) или даже имеют сложную схему длин, но стихотворение нельзя признать ритмичным, если длины строк произвольны (как в сэмплах 1 и 2). Поэтому в качестве показателя ритма мы возьмем отношение количества разных длин строк в стихе к его длине (количеству строк). Так, у сэмпла №3 всего две длины строк и всего 12 строк, поэтому показатель ритма будет равен 2/12 = 0.17. Поскольку при таком подходе мы получаем ситуацию, когда чем показатель меньше, тем лучше (в то время как другие параметры разметки ориентированы на противоположную ситуацию - \"чем больше, тем лучше\"), мы вычтем полученные показатели ритма из 1, чтобы инвертировать значения."
   ]
  },
  {
   "cell_type": "code",
   "execution_count": null,
   "metadata": {
    "id": "AdvbW6RAa9pc"
   },
   "outputs": [],
   "source": [
    "def assess_syl_num(poem):\n",
    "  lines = poem.split(\"\\r\\n\")\n",
    "  true_lines = []\n",
    "  for i in lines:\n",
    "    if i:\n",
    "      true_lines.append(i)\n",
    "\n",
    "  li_syl = []\n",
    "  for line in true_lines:\n",
    "    li_syl.append(len(rusyll.token_to_syllables(line)))\n",
    "\n",
    "  len_diff_len_lines = 1 - len(list(set(li_syl))) / len(true_lines)\n",
    "  len_diff = len(list(set(li_syl)))\n",
    "  len_lines = len(true_lines)\n",
    "\n",
    "  return [len_diff_len_lines, len_diff, len_lines]"
   ]
  },
  {
   "cell_type": "code",
   "execution_count": null,
   "metadata": {
    "id": "3cH1TcYEa9us"
   },
   "outputs": [],
   "source": [
    "corpus_syl = []\n",
    "corpus_syl.append(corpus_clean[0])\n",
    "for i in corpus_clean[1:]:\n",
    "  res = i.copy()\n",
    "  syl_res = assess_syl_num(i[1])\n",
    "  res.append(syl_res[0])\n",
    "  res.append(syl_res[1])\n",
    "  res.append(syl_res[2])\n",
    "  corpus_syl.append(res)"
   ]
  },
  {
   "cell_type": "code",
   "execution_count": null,
   "metadata": {
    "id": "7JaVY8bsa9r9"
   },
   "outputs": [],
   "source": [
    "with open('syl_poems1.csv', 'w', encoding='utf-8') as f_w:\n",
    "  csvwriter = csv.writer(f_w)\n",
    "  csvwriter.writerow(['', 'text', 'name', 'difference in lines (divided by len)', 'difference in lines', 'len'])\n",
    "  csvwriter.writerows(corpus_syl)"
   ]
  }
 ],
 "metadata": {
  "colab": {
   "provenance": []
  },
  "kernelspec": {
   "display_name": "Python 3 (ipykernel)",
   "language": "python",
   "name": "python3"
  },
  "language_info": {
   "codemirror_mode": {
    "name": "ipython",
    "version": 3
   },
   "file_extension": ".py",
   "mimetype": "text/x-python",
   "name": "python",
   "nbconvert_exporter": "python",
   "pygments_lexer": "ipython3",
   "version": "3.9.7"
  }
 },
 "nbformat": 4,
 "nbformat_minor": 1
}
