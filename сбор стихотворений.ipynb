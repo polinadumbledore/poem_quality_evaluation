{
 "cells": [
  {
   "cell_type": "code",
   "execution_count": 1,
   "metadata": {},
   "outputs": [],
   "source": [
    "from bs4 import BeautifulSoup\n",
    "import requests\n",
    "import re\n",
    "import json"
   ]
  },
  {
   "cell_type": "code",
   "execution_count": 2,
   "metadata": {},
   "outputs": [],
   "source": [
    "session = requests.session()"
   ]
  },
  {
   "cell_type": "markdown",
   "metadata": {},
   "source": [
    "# 1. Сбор стихов с сайта РуСтих"
   ]
  },
  {
   "cell_type": "code",
   "execution_count": 3,
   "metadata": {},
   "outputs": [],
   "source": [
    "response = session.get('https://rustih.ru')"
   ]
  },
  {
   "cell_type": "code",
   "execution_count": 4,
   "metadata": {},
   "outputs": [],
   "source": [
    "data = {}\n",
    "\n",
    "stihi = BeautifulSoup(response.text, 'html.parser').find_all('div', {'class': 'post-card-one__content'})    # Получаем список стихотворений и ссылок, которые к ним ведут\n",
    "for stih in stihi:\n",
    "    link = stih.find('a')['href']\n",
    "    name = link[18:]\n",
    "\n",
    "    poem_text = BeautifulSoup(session.get(link).text, 'html.parser').find_all('div', {'class': 'entry-content poem-text'})  # Получаем текст произведения\n",
    "    text = poem_text[0].text\n",
    "    if 'Анализ' in text:            # убираем текст с анализом, если он есть\n",
    "        i = text.index('Анализ')\n",
    "        text = text[:i]\n",
    "\n",
    "    poem_rat = BeautifulSoup(session.get(link).text, 'html.parser').find_all('div', {'class': 'entry-rating'})  # Получаем оценку, которую пользователи дали этому стихотворению\n",
    "    rating = poem_rat[0].find_all('strong')[1].text\n",
    "    rating = float(rating.replace(',', '.'))\n",
    "\n",
    "    data[name[:-1]] = {'rating': rating, 'text': text}  # Записываем данные в словарь"
   ]
  },
  {
   "cell_type": "code",
   "execution_count": 5,
   "metadata": {},
   "outputs": [],
   "source": [
    "# Проходимся по следующим страницам\n",
    "for ind in range(2, 10):\n",
    "    response = session.get('https://rustih.ru/page/' + str(ind) + '/')\n",
    "    stihi = BeautifulSoup(response.text, 'html.parser').find_all('div', {'class': 'post-card-one__content'})\n",
    "    for stih in stihi:\n",
    "        link = stih.find('a')['href']\n",
    "        name = link[18:]\n",
    "\n",
    "        poem_rat = BeautifulSoup(session.get(link).text, 'html.parser').find_all('div', {'class': 'entry-rating'})\n",
    "        if len(poem_rat[0].find_all('strong')) > 1:\n",
    "            rating = poem_rat[0].find_all('strong')[1].text\n",
    "            rating = float(rating.replace(',', '.'))\n",
    "        \n",
    "            poem_text = BeautifulSoup(session.get(link).text, 'html.parser').find_all('div', {'class': 'entry-content poem-text'})\n",
    "            text = poem_text[0].text\n",
    "            if 'Анализ' in text:\n",
    "                i = text.index('Анализ')\n",
    "                text = text[:i]\n",
    "\n",
    "            data[name[:-1]] = {'rating': rating, 'text': text}"
   ]
  },
  {
   "cell_type": "markdown",
   "metadata": {},
   "source": [
    "# 2. Сбор стихов с сайта ТыПоэт"
   ]
  },
  {
   "cell_type": "markdown",
   "metadata": {},
   "source": [
    "На этом сайте стихи находятся в разных темах, поэтому нужно пройтись именно по разделам"
   ]
  },
  {
   "cell_type": "code",
   "execution_count": 7,
   "metadata": {},
   "outputs": [],
   "source": [
    "# Раздел Оценка стихов\n",
    "for ind in range(1, 43):\n",
    "    stihi = BeautifulSoup(session.get('https://tipoet.com/list.php?type=ocenka&cat=1&page=' + str(ind)).text, 'html.parser').find_all('td', {'style': 'text-align: right; padding-right: 30px;'})\n",
    "    for stih in stihi:\n",
    "        link = stih.find('a')['href']\n",
    "        name = link[len(link)-5:len(link)]\n",
    "\n",
    "        if name != '11341' and name != '11234': # С этими стихотворениями возникает проблема парсинга \n",
    "            poem_text = BeautifulSoup(session.get('https://tipoet.com' + link).text, 'html.parser').find_all('table', {'align': 'center'})\n",
    "            text = poem_text[2].text\n",
    "            l = text.index('Оценка стихов')\n",
    "            r = text.index('\\n1\\n')\n",
    "            text = text[l+14:r]\n",
    "\n",
    "            poem_rat = BeautifulSoup(session.get('https://tipoet.com' + link).text, 'html.parser').find_all('li', {'class': 'current-rating'})\n",
    "            l = str(poem_rat[0]).index('width')\n",
    "            r = str(poem_rat[0]).index('><')\n",
    "            rating = float(str(poem_rat)[l+7:r-2])\n",
    "\n",
    "            if name == '11233': # Дублирующееся стихотворение, так как у двух записей разные оценки, мы присваиваем среднюю между ними\n",
    "                data[name] = {'rating': 4.1, 'text': text}\n",
    "            else:\n",
    "                if rating > 0:\n",
    "                    data[name] = {'rating': 5 * 0.01 * rating, 'text': text}    # На этом сайте оценка отображается в процентах от оценки 5, поэтому нужно перевести проценты в численную оценку"
   ]
  },
  {
   "cell_type": "markdown",
   "metadata": {},
   "source": [
    "У нас не хватало стихотворений с низкими оценками, поэтому далее собираются только стихотворения с оценкой меньше 4"
   ]
  },
  {
   "cell_type": "code",
   "execution_count": 81,
   "metadata": {},
   "outputs": [],
   "source": [
    "# Категория Грустные стихи\n",
    "for ind in range(1, 97):\n",
    "    stihi = BeautifulSoup(session.get('https://tipoet.com/list.php?cat=8&page=' + str(ind)).text, 'html.parser').find_all('td', {'style': 'text-align: right; padding-right: 30px;'})\n",
    "    for stih in stihi:\n",
    "        link = stih.find('a')['href']\n",
    "        name = link[len(link)-5:len(link)]\n",
    "\n",
    "        poem_text = BeautifulSoup(session.get('https://tipoet.com' + link).text, 'html.parser').find_all('table', {'align': 'center'})\n",
    "        text = poem_text[2].text\n",
    "        l = text.index('Грустные стихи')\n",
    "        r = text.index('\\n1\\n')\n",
    "        text = text[l+15:r]\n",
    "\n",
    "        poem_rat = BeautifulSoup(session.get('https://tipoet.com' + link).text, 'html.parser').find_all('li', {'class': 'current-rating'})\n",
    "        l = str(poem_rat[0]).index('width')\n",
    "        r = str(poem_rat[0]).index('><')\n",
    "        rating = float(str(poem_rat)[l+7:r-2])\n",
    "\n",
    "        if rating < 80 and rating > 0:\n",
    "            data[name] = {'rating': 5 * 0.01 * rating, 'text': text}"
   ]
  },
  {
   "cell_type": "code",
   "execution_count": 82,
   "metadata": {},
   "outputs": [],
   "source": [
    "# Категория История любви в стихах\n",
    "for ind in range(1, 24):\n",
    "    stihi = BeautifulSoup(session.get('https://tipoet.com/list.php?cat=9&page=' + str(ind)).text, 'html.parser').find_all('td', {'style': 'text-align: right; padding-right: 30px;'})\n",
    "    for stih in stihi:\n",
    "        link = stih.find('a')['href']\n",
    "        name = link[len(link)-5:len(link)]\n",
    "\n",
    "        poem_text = BeautifulSoup(session.get('https://tipoet.com' + link).text, 'html.parser').find_all('table', {'align': 'center'})\n",
    "        text = poem_text[2].text\n",
    "        l = text.index('История любви в стихах')\n",
    "        r = text.index('\\n1\\n')\n",
    "        text = text[l+23:r]\n",
    "\n",
    "        poem_rat = BeautifulSoup(session.get('https://tipoet.com' + link).text, 'html.parser').find_all('li', {'class': 'current-rating'})\n",
    "        l = str(poem_rat[0]).index('width')\n",
    "        r = str(poem_rat[0]).index('><')\n",
    "        rating = float(str(poem_rat)[l+7:r-2])\n",
    "\n",
    "        if rating < 80 and rating > 0:\n",
    "            data[name] = {'rating': 5 * 0.01 * rating, 'text': text}"
   ]
  },
  {
   "cell_type": "code",
   "execution_count": 83,
   "metadata": {},
   "outputs": [],
   "source": [
    "# Категория Красивые стихи\n",
    "for ind in range(1, 69):\n",
    "    stihi = BeautifulSoup(session.get('https://tipoet.com/list.php?cat=5&page=' + str(ind)).text, 'html.parser').find_all('td', {'style': 'text-align: right; padding-right: 30px;'})\n",
    "    for stih in stihi:\n",
    "        link = stih.find('a')['href']\n",
    "        name = link[len(link)-5:len(link)]\n",
    "\n",
    "        if name != '15487':\n",
    "            poem_text = BeautifulSoup(session.get('https://tipoet.com' + link).text, 'html.parser').find_all('table', {'align': 'center'})\n",
    "            text = poem_text[2].text\n",
    "            l = text.index('Красивые стихи')\n",
    "            r = text.index('\\n1\\n')\n",
    "            text = text[l+15:r]\n",
    "\n",
    "            poem_rat = BeautifulSoup(session.get('https://tipoet.com' + link).text, 'html.parser').find_all('li', {'class': 'current-rating'})\n",
    "            l = str(poem_rat[0]).index('width')\n",
    "            r = str(poem_rat[0]).index('><')\n",
    "            rating = float(str(poem_rat)[l+7:r-2])\n",
    "\n",
    "            if rating < 80 and rating > 0:\n",
    "                data[name] = {'rating': 5 * 0.01 * rating, 'text': text}"
   ]
  },
  {
   "cell_type": "code",
   "execution_count": 86,
   "metadata": {},
   "outputs": [],
   "source": [
    "# Категория Любовные стихи\n",
    "for ind in range(1, 69):\n",
    "    stihi = BeautifulSoup(session.get('https://tipoet.com/list.php?cat=50&page=' + str(ind)).text, 'html.parser').find_all('td', {'style': 'text-align: right; padding-right: 30px;'})\n",
    "    for stih in stihi:\n",
    "        link = stih.find('a')['href']\n",
    "        name = link[len(link)-5:len(link)]\n",
    "\n",
    "        poem_text = BeautifulSoup(session.get('https://tipoet.com' + link).text, 'html.parser').find_all('table', {'align': 'center'})\n",
    "        text = poem_text[2].text\n",
    "        l = text.index('Любовные стихи')\n",
    "        r = text.index('\\n1\\n')\n",
    "        text = text[l+15:r]\n",
    "\n",
    "        poem_rat = BeautifulSoup(session.get('https://tipoet.com' + link).text, 'html.parser').find_all('li', {'class': 'current-rating'})\n",
    "        l = str(poem_rat[0]).index('width')\n",
    "        r = str(poem_rat[0]).index('><')\n",
    "        rating = float(str(poem_rat)[l+7:r-2])\n",
    "\n",
    "        if rating < 80 and rating > 0:\n",
    "            data[name] = {'rating': 5 * 0.01 * rating, 'text': text}"
   ]
  },
  {
   "cell_type": "code",
   "execution_count": 87,
   "metadata": {},
   "outputs": [],
   "source": [
    "# Категория Печальные стихи\n",
    "for ind in range(1, 33):\n",
    "    stihi = BeautifulSoup(session.get('https://tipoet.com/list.php?cat=4&page=' + str(ind)).text, 'html.parser').find_all('td', {'style': 'text-align: right; padding-right: 30px;'})\n",
    "    for stih in stihi:\n",
    "        link = stih.find('a')['href']\n",
    "        name = link[len(link)-5:len(link)]\n",
    "\n",
    "        poem_text = BeautifulSoup(session.get('https://tipoet.com' + link).text, 'html.parser').find_all('table', {'align': 'center'})\n",
    "        text = poem_text[2].text\n",
    "        l = text.index('Печальные стихи')\n",
    "        r = text.index('\\n1\\n')\n",
    "        text = text[l+16:r]\n",
    "\n",
    "        poem_rat = BeautifulSoup(session.get('https://tipoet.com' + link).text, 'html.parser').find_all('li', {'class': 'current-rating'})\n",
    "        l = str(poem_rat[0]).index('width')\n",
    "        r = str(poem_rat[0]).index('><')\n",
    "        rating = float(str(poem_rat)[l+7:r-2])\n",
    "\n",
    "        if rating < 80 and rating > 0:\n",
    "            data[name] = {'rating': 5 * 0.01 * rating, 'text': text}"
   ]
  },
  {
   "cell_type": "code",
   "execution_count": 88,
   "metadata": {},
   "outputs": [],
   "source": [
    "# Категория Философские стихи\n",
    "for ind in range(1, 55):\n",
    "    stihi = BeautifulSoup(session.get('https://tipoet.com/list.php?cat=54&page=' + str(ind)).text, 'html.parser').find_all('td', {'style': 'text-align: right; padding-right: 30px;'})\n",
    "    for stih in stihi:\n",
    "        link = stih.find('a')['href']\n",
    "        name = link[len(link)-5:len(link)]\n",
    "\n",
    "        poem_text = BeautifulSoup(session.get('https://tipoet.com' + link).text, 'html.parser').find_all('table', {'align': 'center'})\n",
    "        text = poem_text[2].text\n",
    "        l = text.index('Философские стихи')\n",
    "        r = text.index('\\n1\\n')\n",
    "        text = text[l+17:r]\n",
    "\n",
    "        poem_rat = BeautifulSoup(session.get('https://tipoet.com' + link).text, 'html.parser').find_all('li', {'class': 'current-rating'})\n",
    "        l = str(poem_rat[0]).index('width')\n",
    "        r = str(poem_rat[0]).index('><')\n",
    "        rating = float(str(poem_rat)[l+7:r-2])\n",
    "\n",
    "        if rating < 80 and rating > 0:\n",
    "            data[name] = {'rating': 5 * 0.01 * rating, 'text': text}"
   ]
  },
  {
   "cell_type": "code",
   "execution_count": 89,
   "metadata": {},
   "outputs": [],
   "source": [
    "# Категория Чувственные стихи\n",
    "for ind in range(1, 46):\n",
    "    stihi = BeautifulSoup(session.get('https://tipoet.com/list.php?cat=10&page=' + str(ind)).text, 'html.parser').find_all('td', {'style': 'text-align: right; padding-right: 30px;'})\n",
    "    for stih in stihi:\n",
    "        link = stih.find('a')['href']\n",
    "        name = link[len(link)-5:len(link)]\n",
    "\n",
    "        poem_text = BeautifulSoup(session.get('https://tipoet.com' + link).text, 'html.parser').find_all('table', {'align': 'center'})\n",
    "        text = poem_text[2].text\n",
    "        l = text.index('Чувственные стихи')\n",
    "        r = text.index('\\n1\\n')\n",
    "        text = text[l+18:r]\n",
    "\n",
    "        poem_rat = BeautifulSoup(session.get('https://tipoet.com' + link).text, 'html.parser').find_all('li', {'class': 'current-rating'})\n",
    "        l = str(poem_rat[0]).index('width')\n",
    "        r = str(poem_rat[0]).index('><')\n",
    "        rating = float(str(poem_rat)[l+7:r-2])\n",
    "\n",
    "        if rating < 80 and rating > 0:\n",
    "            data[name] = {'rating': 5 * 0.01 * rating, 'text': text}"
   ]
  },
  {
   "cell_type": "markdown",
   "metadata": {},
   "source": [
    "# 3. Запись данных в файл"
   ]
  },
  {
   "cell_type": "code",
   "execution_count": 91,
   "metadata": {},
   "outputs": [],
   "source": [
    "with open('data.json', 'w', encoding='utf8') as file:\n",
    "    json.dump(data, file, ensure_ascii=False)"
   ]
  }
 ],
 "metadata": {
  "kernelspec": {
   "display_name": "Python 3",
   "language": "python",
   "name": "python3"
  },
  "language_info": {
   "codemirror_mode": {
    "name": "ipython",
    "version": 3
   },
   "file_extension": ".py",
   "mimetype": "text/x-python",
   "name": "python",
   "nbconvert_exporter": "python",
   "pygments_lexer": "ipython3",
   "version": "3.8.8"
  }
 },
 "nbformat": 4,
 "nbformat_minor": 2
}
